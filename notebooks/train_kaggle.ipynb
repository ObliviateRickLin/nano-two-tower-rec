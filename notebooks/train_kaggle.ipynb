{
 "cells": [
  {
   "cell_type": "markdown",
   "metadata": {},
   "source": [
    "# Two-Tower Recommendation System Training on Kaggle\n",
    "\n",
    "This notebook demonstrates how to train the two-tower recommendation model using Kaggle's GPU."
   ]
  },
  {
   "cell_type": "code",
   "execution_count": null,
   "metadata": {},
   "source": [
    "# Install required packages\n",
    "!pip install -q torch numpy pandas scikit-learn tqdm pyyaml"
   ]
  },
  {
   "cell_type": "code",
   "execution_count": null,
   "metadata": {},
   "source": [
    "# Clone the repository\n",
    "!git clone https://github.com/your-username/two-tower-rec.git\n",
    "!cd two-tower-rec"
   ]
  },
  {
   "cell_type": "code",
   "execution_count": null,
   "metadata": {},
   "source": [
    "# Download AliEC dataset\n",
    "!mkdir -p data/raw\n",
    "!kaggle datasets download -d your-username/aliec-dataset\n",
    "!unzip aliec-dataset.zip -d data/raw"
   ]
  },
  {
   "cell_type": "code",
   "execution_count": null,
   "metadata": {},
   "source": [
    "import sys\n",
    "sys.path.append('two-tower-rec/src')\n",
    "\n",
    "import torch\n",
    "from models.two_tower import TwoTowerModel\n",
    "from trainers.two_tower_trainer import TwoTowerTrainer\n",
    "from data.data_loader import get_dataloader\n",
    "from utils.config import load_config, DEFAULT_CONFIG"
   ]
  },
  {
   "cell_type": "code",
   "execution_count": null,
   "metadata": {},
   "source": [
    "# Check GPU availability\n",
    "device = torch.device('cuda' if torch.cuda.is_available() else 'cpu')\n",
    "print(f'Using device: {device}')\n",
    "\n",
    "if torch.cuda.is_available():\n",
    "    print(f'GPU: {torch.cuda.get_device_name(0)}')\n",
    "    print(f'Memory: {torch.cuda.get_device_properties(0).total_memory / 1e9:.2f} GB')"
   ]
  },
  {
   "cell_type": "code",
   "execution_count": null,
   "metadata": {},
   "source": [
    "# Preprocess data\n",
    "!python two-tower-rec/src/data/preprocess.py"
   ]
  },
  {
   "cell_type": "code",
   "execution_count": null,
   "metadata": {},
   "source": [
    "# Create data loaders\n",
    "train_loader = get_dataloader(\n",
    "    data_path='data/processed',\n",
    "    batch_size=DEFAULT_CONFIG['training']['batch_size'],\n",
    "    mode='train'\n",
    ")\n",
    "\n",
    "valid_loader = get_dataloader(\n",
    "    data_path='data/processed',\n",
    "    batch_size=DEFAULT_CONFIG['training']['batch_size'],\n",
    "    mode='valid'\n",
    ")"
   ]
  },
  {
   "cell_type": "code",
   "execution_count": null,
   "metadata": {},
   "source": [
    "# Initialize model and move to GPU\n",
    "model = TwoTowerModel(DEFAULT_CONFIG['model']).to(device)\n",
    "\n",
    "# Enable mixed precision training\n",
    "scaler = torch.cuda.amp.GradScaler()\n",
    "\n",
    "# Initialize optimizer\n",
    "optimizer = torch.optim.AdamW(\n",
    "    model.parameters(),\n",
    "    lr=DEFAULT_CONFIG['training']['learning_rate']\n",
    ")\n",
    "\n",
    "# Initialize trainer\n",
    "trainer = TwoTowerTrainer(\n",
    "    model=model,\n",
    "    optimizer=optimizer,\n",
    "    device=device,\n",
    "    scaler=scaler\n",
    ")"
   ]
  },
  {
   "cell_type": "code",
   "execution_count": null,
   "metadata": {},
   "source": [
    "# Training loop\n",
    "best_metric = float('-inf')\n",
    "patience = DEFAULT_CONFIG['training']['early_stopping_patience']\n",
    "patience_counter = 0\n",
    "\n",
    "for epoch in range(DEFAULT_CONFIG['training']['num_epochs']):\n",
    "    # Train\n",
    "    train_loss = trainer.train_epoch(train_loader)\n",
    "    \n",
    "    # Validate\n",
    "    metrics = trainer.validate(valid_loader)\n",
    "    \n",
    "    print(f'Epoch {epoch+1}/{DEFAULT_CONFIG[\"training\"][\"num_epochs\"]}')\n",
    "    print(f'Train Loss: {train_loss:.4f}')\n",
    "    for metric_name, metric_value in metrics.items():\n",
    "        print(f'{metric_name}: {metric_value:.4f}')\n",
    "    \n",
    "    # Early stopping\n",
    "    if metrics['ndcg@10'] > best_metric:\n",
    "        best_metric = metrics['ndcg@10']\n",
    "        patience_counter = 0\n",
    "        # Save best model\n",
    "        torch.save(model.state_dict(), 'best_model.pt')\n",
    "    else:\n",
    "        patience_counter += 1\n",
    "        if patience_counter >= patience:\n",
    "            print('Early stopping triggered')\n",
    "            break"
   ]
  },
  {
   "cell_type": "code",
   "execution_count": null,
   "metadata": {},
   "source": [
    "# Save final results\n",
    "print(f'Best NDCG@10: {best_metric:.4f}')"
   ]
  }
 ],
 "metadata": {
  "accelerator": "GPU",
  "kernelspec": {
   "display_name": "Python 3",
   "language": "python",
   "name": "python3"
  }
 }
}